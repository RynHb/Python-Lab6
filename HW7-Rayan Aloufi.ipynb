{
 "cells": [
  {
   "cell_type": "markdown",
   "id": "2f442504",
   "metadata": {},
   "source": [
    "## Build a phone book program that receives the phone number, and returns the name of the owner."
   ]
  },
  {
   "cell_type": "code",
   "execution_count": 1,
   "id": "4f7860d1",
   "metadata": {},
   "outputs": [],
   "source": [
    "dict1 = {\n",
    "    \"Name\": [\"Amal\", \"Mohammed\", \"Khadijah\", \"Abdullah\", \"Rawan\", \"Faisal\", \"Layla\"],\n",
    "    \"Number\": [1111111111, 2222222222, 3333333333, 4444444444, 5555555555, 6666666666, 7777777777]\n",
    "}"
   ]
  },
  {
   "cell_type": "code",
   "execution_count": 5,
   "id": "5a1c2caf",
   "metadata": {},
   "outputs": [
    {
     "name": "stdout",
     "output_type": "stream",
     "text": [
      "enter the phone number please: 12ga241562hhg\n",
      "This is invalid number\n",
      "enter the phone number please: 111111111\n",
      "This is invalid number\n",
      "enter the phone number please: 55555555555\n",
      "This is invalid number\n",
      "enter the phone number please: %#^&@14314\n",
      "This is invalid number\n",
      "enter the phone number please: 3333333333\n",
      "The phone owner name is: Khadijah\n",
      "enter the phone number please: 8888888888\n",
      "Sorry, the number is not found\n"
     ]
    }
   ],
   "source": [
    "while True != False:\n",
    "    ph_num = input(\"enter the phone number please: \")\n",
    "    \n",
    "    if not ph_num.isdigit() or len(ph_num) != 10:\n",
    "        print(\"This is invalid number\")\n",
    "    else:\n",
    "        ph_num = int(ph_num)\n",
    "        if ph_num in dict1['Number']:\n",
    "            index = dict1['Number'].index(ph_num)\n",
    "            name = dict1['Name'][index]\n",
    "            print(\"The phone owner name is:\",name)\n",
    "        else:\n",
    "            print(\"Sorry, the number is not found\")\n",
    "            break"
   ]
  }
 ],
 "metadata": {
  "kernelspec": {
   "display_name": "Python 3 (ipykernel)",
   "language": "python",
   "name": "python3"
  },
  "language_info": {
   "codemirror_mode": {
    "name": "ipython",
    "version": 3
   },
   "file_extension": ".py",
   "mimetype": "text/x-python",
   "name": "python",
   "nbconvert_exporter": "python",
   "pygments_lexer": "ipython3",
   "version": "3.11.3"
  }
 },
 "nbformat": 4,
 "nbformat_minor": 5
}
